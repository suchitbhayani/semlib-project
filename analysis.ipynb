{
 "cells": [
  {
   "cell_type": "code",
   "execution_count": 1,
   "id": "b27363e2",
   "metadata": {},
   "outputs": [],
   "source": [
    "from semlib import Session\n",
    "import os\n",
    "import csv\n",
    "from dotenv import load_dotenv\n",
    "from collections import Counter"
   ]
  },
  {
   "cell_type": "code",
   "execution_count": 2,
   "id": "c0dfc89b",
   "metadata": {},
   "outputs": [],
   "source": [
    "load_dotenv()\n",
    "os.environ[\"OPENAI_API_KEY\"] = os.getenv(\"OPENAI_API_KEY\")\n",
    "MAX_CONCURRENCY=5\n",
    "\n",
    "session = Session(model=\"openai/gpt-4.1-mini\", max_concurrency=MAX_CONCURRENCY)"
   ]
  },
  {
   "cell_type": "code",
   "execution_count": 3,
   "id": "d6390e59",
   "metadata": {},
   "outputs": [
    {
     "name": "stdout",
     "output_type": "stream",
     "text": [
      "Loaded 1201 convos\n",
      "\n",
      "Example convo: Doctor: How're you feeling today?  \n",
      "Patient: Terrible. I'm having the worst headache of my life. \n",
      "Doctor: I'm so sorry. Well you are only twenty five, so let's hope this is the last of the worst. Let's see how we can best help you. When did it start? \n",
      "Patient: Around eleven in the morning. \n",
      "Doctor: Today? \n",
      "Patient: Um no yesterday. July thirty first. \n",
      "Doctor: July thirty first O eight. Got it. Did it come on suddenly? \n",
      "Patient: Yeah. \n",
      "Doctor: Are you having any symptoms with it, such as blurry vision, light sensitivity, dizziness, lightheadedness, or nausea? \n",
      "Patient: I'm having blurry vision and lightheadedness.  I also can't seem to write well. It looks so messy. I am naturally right handed but my writing looks like I am trying with my left. \n",
      "Doctor: How would you describe the lightheadedness? \n",
      "Patient: Like there are blind spots. \n",
      "Doctor: Okay. How about any vomiting? \n",
      "Patient: Um no. I feel like my face is pretty swollen though. I don't know if it's related to the headache but it started around the same time. \n",
      "Doctor: Here in the E R, we'll do a thorough exam and eval to make sure nothing serious is going on. While we're waiting for your C T results, I'm going to order a migraine cocktail and some Morphine. \n",
      "Patient: Thank. Will the nurse be in soon? \n",
      "Doctor: Yes, she'll be right in as soon as the order is placed. It shouldn't be more than a few minutes. If it takes longer, then please ring the call bell.\n"
     ]
    }
   ],
   "source": [
    "with open(\"MTS-Dialog-TrainingSet.csv\", encoding=\"latin-1\") as f_in:\n",
    "    csv_file = csv.reader(f_in)\n",
    "    header = next(csv_file)\n",
    "    convos = [dict(zip(header, row, strict=False)) for row in csv_file]\n",
    "\n",
    "print(f\"Loaded {len(convos)} convos\\n\")\n",
    "print(f\"Example convo: {convos[1]['dialogue']}\")"
   ]
  },
  {
   "cell_type": "code",
   "execution_count": 4,
   "id": "f33bf3a9",
   "metadata": {},
   "outputs": [],
   "source": [
    "extracted_reasons = await session.map(\n",
    "    convos,\n",
    "    template=lambda r: f\"\"\"\n",
    "Extract the patient's chief complaint or reason for coming to the doctor. 1-2 word response only.\n",
    "{r['dialogue']}\n",
    "\"\"\".strip(),\n",
    ")"
   ]
  },
  {
   "cell_type": "code",
   "execution_count": 5,
   "id": "a81f60c8",
   "metadata": {},
   "outputs": [
    {
     "data": {
      "text/plain": [
       "'refill'"
      ]
     },
     "execution_count": 5,
     "metadata": {},
     "output_type": "execute_result"
    }
   ],
   "source": [
    "extracted_reasons[0]"
   ]
  },
  {
   "cell_type": "code",
   "execution_count": 6,
   "id": "4874131a",
   "metadata": {},
   "outputs": [],
   "source": [
    "extracted_family_illnesses = await session.map(\n",
    "    convos,\n",
    "    template=lambda r: f\"\"\"\n",
    "Extract the any illness(es) that the patient and doctor are concerned about. Respond with only the illness(es) separated by commas. If none respond with none.\n",
    "{r['section_text']}\n",
    "\"\"\".strip(),\n",
    ")"
   ]
  },
  {
   "cell_type": "code",
   "execution_count": 7,
   "id": "ab3d766a",
   "metadata": {},
   "outputs": [
    {
     "data": {
      "text/plain": [
       "'hypertension, osteoarthritis, osteoporosis, hypothyroidism, allergic rhinitis, kidney stones'"
      ]
     },
     "execution_count": 7,
     "metadata": {},
     "output_type": "execute_result"
    }
   ],
   "source": [
    "extracted_family_illnesses[0]"
   ]
  },
  {
   "cell_type": "code",
   "execution_count": 8,
   "id": "b400ec22",
   "metadata": {},
   "outputs": [],
   "source": [
    "extracted_medications = await session.map(\n",
    "    convos,\n",
    "    template=lambda r: f\"\"\"\n",
    "Extract the patient's medications. Respond with only the medication(s) separated by commas. If none respond with none.\n",
    "{r['section_text']}\n",
    "\"\"\".strip(),\n",
    ")"
   ]
  },
  {
   "cell_type": "code",
   "execution_count": 9,
   "id": "c1137b93",
   "metadata": {},
   "outputs": [
    {
     "data": {
      "text/plain": [
       "'none'"
      ]
     },
     "execution_count": 9,
     "metadata": {},
     "output_type": "execute_result"
    }
   ],
   "source": [
    "extracted_medications[0]"
   ]
  },
  {
   "cell_type": "code",
   "execution_count": 10,
   "id": "e68f6ce3",
   "metadata": {},
   "outputs": [
    {
     "data": {
      "text/plain": [
       "[('none', 1038),\n",
       " ('Allegra', 8),\n",
       " ('Tylenol', 7),\n",
       " ('Benadryl', 5),\n",
       " ('Coumadin', 5)]"
      ]
     },
     "execution_count": 10,
     "metadata": {},
     "output_type": "execute_result"
    }
   ],
   "source": [
    "# Split each element by comma, strip whitespace, and flatten into one list\n",
    "all_meds = [med.strip() for patient in extracted_medications for med in patient.split(',')]\n",
    "\n",
    "# Count occurrences\n",
    "med_counts = Counter(all_meds)\n",
    "\n",
    "# Get 5 most common\n",
    "top_5_meds = med_counts.most_common(5)\n",
    "\n",
    "top_5_meds"
   ]
  },
  {
   "cell_type": "code",
   "execution_count": 11,
   "id": "6ea80920",
   "metadata": {},
   "outputs": [],
   "source": [
    "extracted_symptoms = await session.map(\n",
    "    convos,\n",
    "    template=lambda r: f\"\"\"\n",
    "Extract the patient's symptom. Respond with only the symptom(s) separated by commas. 1-2 words for each symptom. If patient has no symptons, respond with none.\n",
    "{r['section_text']}\n",
    "\"\"\".strip(),\n",
    ")"
   ]
  },
  {
   "cell_type": "code",
   "execution_count": 14,
   "id": "134505d7",
   "metadata": {},
   "outputs": [
    {
     "data": {
      "text/plain": [
       "'none'"
      ]
     },
     "execution_count": 14,
     "metadata": {},
     "output_type": "execute_result"
    }
   ],
   "source": [
    "extracted_symptoms[0]"
   ]
  },
  {
   "cell_type": "code",
   "execution_count": 13,
   "id": "d287d248",
   "metadata": {},
   "outputs": [
    {
     "data": {
      "text/plain": [
       "[('none', 734),\n",
       " ('pain', 26),\n",
       " ('nausea', 23),\n",
       " ('vomiting', 17),\n",
       " ('back pain', 15)]"
      ]
     },
     "execution_count": 13,
     "metadata": {},
     "output_type": "execute_result"
    }
   ],
   "source": [
    "# Split each element by comma, strip whitespace, and flatten into one list\n",
    "all_symptoms = [symptom.strip() for patient in extracted_symptoms for symptom in patient.split(',')]\n",
    "\n",
    "# Count occurrences\n",
    "symptoms_counts = Counter(all_symptoms)\n",
    "\n",
    "# Get 5 most common\n",
    "top_5_symptoms = symptoms_counts.most_common(5)\n",
    "\n",
    "top_5_symptoms"
   ]
  },
  {
   "cell_type": "code",
   "execution_count": null,
   "id": "6af6291e",
   "metadata": {},
   "outputs": [],
   "source": []
  }
 ],
 "metadata": {
  "kernelspec": {
   "display_name": "semlib",
   "language": "python",
   "name": "python3"
  },
  "language_info": {
   "codemirror_mode": {
    "name": "ipython",
    "version": 3
   },
   "file_extension": ".py",
   "mimetype": "text/x-python",
   "name": "python",
   "nbconvert_exporter": "python",
   "pygments_lexer": "ipython3",
   "version": "3.12.10"
  }
 },
 "nbformat": 4,
 "nbformat_minor": 5
}
